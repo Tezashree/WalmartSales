{
  "nbformat": 4,
  "nbformat_minor": 0,
  "metadata": {
    "colab": {
      "provenance": [],
      "authorship_tag": "ABX9TyN4BT+rDHL4GZg52+c+fK99",
      "include_colab_link": true
    },
    "kernelspec": {
      "name": "python3",
      "display_name": "Python 3"
    },
    "language_info": {
      "name": "python"
    }
  },
  "cells": [
    {
      "cell_type": "markdown",
      "metadata": {
        "id": "view-in-github",
        "colab_type": "text"
      },
      "source": [
        "<a href=\"https://colab.research.google.com/github/Tezashree/WalmartSales/blob/main/WalmartSalesAnalysis.ipynb\" target=\"_parent\"><img src=\"https://colab.research.google.com/assets/colab-badge.svg\" alt=\"Open In Colab\"/></a>"
      ]
    },
    {
      "cell_type": "code",
      "execution_count": 1,
      "metadata": {
        "id": "52c9LZVV03AK"
      },
      "outputs": [],
      "source": [
        "# Import necessary libraries\n",
        "import pandas as pd\n",
        "import matplotlib.pyplot as plt\n",
        "import seaborn as sns\n",
        "\n",
        "# Load the dataset (skip the first row that contains redundant headers)\n",
        "file_path = \"Walmart_Sales.csv\"\n",
        "df = pd.read_csv(file_path, skiprows=1, header=None)\n",
        "\n",
        "# Rename columns for easier access\n",
        "df.columns = [\"Store\", \"Date\", \"Weekly_Sales\", \"Holiday_Flag\", \"Temperature\", \"Fuel_Price\", \"CPI\", \"Unemployment\"]\n"
      ]
    },
    {
      "cell_type": "code",
      "source": [
        "# Convert the Date column to the proper date format\n",
        "df[\"Date\"] = pd.to_datetime(df[\"Date\"], format=\"%d-%m-%Y\", errors='coerce')\n",
        "\n",
        "# Convert numeric columns to numbers\n",
        "numeric_columns = [\"Weekly_Sales\", \"Holiday_Flag\", \"Temperature\", \"Fuel_Price\", \"CPI\", \"Unemployment\"]\n",
        "df[numeric_columns] = df[numeric_columns].apply(pd.to_numeric, errors=\"coerce\")\n",
        "\n",
        "# Sort data by Store and Date\n",
        "df = df.sort_values(by=[\"Store\", \"Date\"])"
      ],
      "metadata": {
        "id": "at0cEBsTYa81"
      },
      "execution_count": 2,
      "outputs": []
    },
    {
      "cell_type": "code",
      "source": [
        "# Round numeric values\n",
        "df[\"Weekly_Sales\"] = df[\"Weekly_Sales\"].round(2)\n",
        "df[\"Temperature\"] = df[\"Temperature\"].round()\n",
        "df[\"Fuel_Price\"] = df[\"Fuel_Price\"].round(2)\n",
        "df[\"CPI\"] = df[\"CPI\"].round(3)\n",
        "df[\"Unemployment\"] = df[\"Unemployment\"].round(3)"
      ],
      "metadata": {
        "id": "kjvVF4rBYiui"
      },
      "execution_count": 3,
      "outputs": []
    },
    {
      "cell_type": "code",
      "source": [
        "# Remove rows with missing values\n",
        "df_cleaned = df.dropna()\n",
        "\n",
        "# Display the cleaned dataset\n",
        "print(\"Cleaned Data:\")\n",
        "print(df_cleaned.head())"
      ],
      "metadata": {
        "id": "ArCTgCsmYrAd",
        "colab": {
          "base_uri": "https://localhost:8080/"
        },
        "outputId": "8c516a6b-0400-4e48-868b-e5e0c1639106"
      },
      "execution_count": 4,
      "outputs": [
        {
          "output_type": "stream",
          "name": "stdout",
          "text": [
            "Cleaned Data:\n",
            "   Store       Date  Weekly_Sales  Holiday_Flag  Temperature  Fuel_Price  \\\n",
            "0      1 2010-02-05    1643690.90             0         42.0        2.57   \n",
            "1      1 2010-02-12    1641957.44             1         39.0        2.55   \n",
            "2      1 2010-02-19    1611968.17             0         40.0        2.51   \n",
            "3      1 2010-02-26    1409727.59             0         47.0        2.56   \n",
            "4      1 2010-03-05    1554806.68             0         46.0        2.62   \n",
            "\n",
            "       CPI  Unemployment  \n",
            "0  211.096         8.106  \n",
            "1  211.242         8.106  \n",
            "2  211.289         8.106  \n",
            "3  211.320         8.106  \n",
            "4  211.350         8.106  \n"
          ]
        }
      ]
    },
    {
      "cell_type": "code",
      "source": [
        "# Step 1: Filter the data for holiday weeks\n",
        "# We want to find only the rows where \"Holiday_Flag\" is 1, which indicates it's a holiday week.\n",
        "holiday_data = df_cleaned[df_cleaned[\"Holiday_Flag\"] == 1]\n",
        "\n",
        "# Step 2: Group the holiday data by \"Date\" and calculate the total \"Weekly_Sales\" for each holiday date\n",
        "holiday_sales = holiday_data.groupby(\"Date\")[\"Weekly_Sales\"].sum()\n",
        "\n",
        "# Step 3: Sort the sales in descending order to find the top 5 holiday dates with the highest sales\n",
        "top_holiday_sales = holiday_sales.sort_values(ascending=False).head(5)\n",
        "\n",
        "# Step 4: Print the results\n",
        "print(\"Top 5 Holiday Sales by Date:\")\n",
        "print(top_holiday_sales)\n",
        "\n",
        "# Step 5: Plot the top 5 holiday sales using a bar chart\n",
        "import matplotlib.pyplot as plt\n",
        "import seaborn as sns\n",
        "\n",
        "plt.figure(figsize=(10, 6))\n",
        "sns.barplot(x=top_holiday_sales.index.strftime('%Y-%m-%d'), y=top_holiday_sales.values, palette=\"Blues_d\")\n",
        "plt.xticks(rotation=45)  # Rotate the x-axis labels for better readability\n",
        "plt.title(\"Top 5 Holiday Sales by Date\")\n",
        "plt.xlabel(\"Holiday Date\")\n",
        "plt.ylabel(\"Total Weekly Sales\")\n",
        "plt.show()\n",
        "\n"
      ],
      "metadata": {
        "id": "pu-MFX-eY22e",
        "colab": {
          "base_uri": "https://localhost:8080/",
          "height": 827
        },
        "outputId": "5d2bc09f-f220-4347-f937-41805a5882ec"
      },
      "execution_count": 5,
      "outputs": [
        {
          "output_type": "stream",
          "name": "stdout",
          "text": [
            "Top 5 Holiday Sales by Date:\n",
            "Date\n",
            "2011-11-25    66593605.26\n",
            "2010-11-26    65821003.24\n",
            "2012-02-10    50009407.92\n",
            "2010-02-12    48336677.63\n",
            "2012-09-07    48330059.31\n",
            "Name: Weekly_Sales, dtype: float64\n"
          ]
        },
        {
          "output_type": "stream",
          "name": "stderr",
          "text": [
            "<ipython-input-5-aca88d187654>:20: FutureWarning: \n",
            "\n",
            "Passing `palette` without assigning `hue` is deprecated and will be removed in v0.14.0. Assign the `x` variable to `hue` and set `legend=False` for the same effect.\n",
            "\n",
            "  sns.barplot(x=top_holiday_sales.index.strftime('%Y-%m-%d'), y=top_holiday_sales.values, palette=\"Blues_d\")\n"
          ]
        },
        {
          "output_type": "display_data",
          "data": {
            "text/plain": [
              "<Figure size 1000x600 with 1 Axes>"
            ],
            "image/png": "[encoded data removed]"
          },
          "metadata": {}
        }
      ]
    },
    {
      "cell_type": "code",
      "source": [
        "# Step 1: Find the store with the lowest unemployment rate\n",
        "# We use .idxmin() to get the row index where the \"Unemployment\" value is the smallest\n",
        "lowest_unemployment_store = df_cleaned.loc[df_cleaned[\"Unemployment\"].idxmin(), \"Store\"]\n",
        "\n",
        "# Step 2: Find the store with the highest unemployment rate\n",
        "# We use .idxmax() to get the row index where the \"Unemployment\" value is the largest\n",
        "highest_unemployment_store = df_cleaned.loc[df_cleaned[\"Unemployment\"].idxmax(), \"Store\"]\n",
        "\n",
        "# Step 3: Print the results in an easy-to-read format\n",
        "print(f\"Store with the lowest unemployment rate: Store {lowest_unemployment_store}\")\n",
        "print(f\"Store with the highest unemployment rate: Store {highest_unemployment_store}\")\n"
      ],
      "metadata": {
        "colab": {
          "base_uri": "https://localhost:8080/"
        },
        "id": "RMG3ixJicqZI",
        "outputId": "deef2e48-9041-4c9a-b3ec-ed3d0be11284"
      },
      "execution_count": 6,
      "outputs": [
        {
          "output_type": "stream",
          "name": "stdout",
          "text": [
            "Store with the lowest unemployment rate: Store 4\n",
            "Store with the highest unemployment rate: Store 12\n"
          ]
        }
      ]
    },
    {
      "cell_type": "code",
      "source": [
        "# Step 1: Calculate the overall correlation between CPI and Weekly Sales\n",
        "# The .corr() function calculates the correlation between two columns\n",
        "correlation_overall = df_cleaned[[\"CPI\", \"Weekly_Sales\"]].corr().iloc[0, 1]\n",
        "\n",
        "# Step 2: Calculate the correlation for non-holiday weeks\n",
        "# Filter rows where \"Holiday_Flag\" is 0 (non-holiday weeks), then calculate correlation\n",
        "correlation_non_holiday = df_cleaned[df_cleaned[\"Holiday_Flag\"] == 0][[\"CPI\", \"Weekly_Sales\"]].corr().iloc[0, 1]\n",
        "\n",
        "# Step 3: Calculate the correlation for holiday weeks\n",
        "# Filter rows where \"Holiday_Flag\" is 1 (holiday weeks), then calculate correlation\n",
        "correlation_holiday = df_cleaned[df_cleaned[\"Holiday_Flag\"] == 1][[\"CPI\", \"Weekly_Sales\"]].corr().iloc[0, 1]\n",
        "\n",
        "# Step 4: Print the results\n",
        "print(f\"Correlation between CPI and Weekly Sales (Overall): {correlation_overall:.2f}\")\n",
        "print(f\"Correlation during Non-Holiday Weeks: {correlation_non_holiday:.2f}\")\n",
        "print(f\"Correlation during Holiday Weeks: {correlation_holiday:.2f}\")\n",
        "\n"
      ],
      "metadata": {
        "colab": {
          "base_uri": "https://localhost:8080/"
        },
        "id": "u5u_ye1rdLFS",
        "outputId": "ac7b9ae1-4592-4644-ef6c-3a1a55ce54b2"
      },
      "execution_count": 7,
      "outputs": [
        {
          "output_type": "stream",
          "name": "stdout",
          "text": [
            "Correlation between CPI and Weekly Sales (Overall): -0.07\n",
            "Correlation during Non-Holiday Weeks: -0.07\n",
            "Correlation during Holiday Weeks: -0.08\n"
          ]
        }
      ]
    },
    {
      "cell_type": "code",
      "source": [
        "# Step 1: Calculate the correlation between Fuel Price and Weekly Sales\n",
        "# The .corr() function calculates how strongly related Fuel Price and Weekly Sales are.\n",
        "correlation_fuel = df_cleaned[[\"Fuel_Price\", \"Weekly_Sales\"]].corr().iloc[0, 1]\n",
        "\n",
        "# Step 2: Print the result in a readable format\n",
        "print(f\"Correlation between Fuel Price and Weekly Sales: {correlation_fuel:.2f}\")\n"
      ],
      "metadata": {
        "colab": {
          "base_uri": "https://localhost:8080/"
        },
        "id": "kVl3yV4vdn1U",
        "outputId": "cfaf238e-3c89-4072-b3dd-fb50cfb8be53"
      },
      "execution_count": 8,
      "outputs": [
        {
          "output_type": "stream",
          "name": "stdout",
          "text": [
            "Correlation between Fuel Price and Weekly Sales: 0.01\n"
          ]
        }
      ]
    },
    {
      "cell_type": "markdown",
      "source": [
        "Walmart Sales Analysis:\n",
        "\n",
        " A Data Journey\n",
        "It all started with a simple idea: \"Can we use Walmart’s data to uncover hidden patterns that explain sales performance?\" The data looked promising—weekly sales numbers, unemployment rates, fuel prices, and even holiday flags—but, like most real-world datasets, it was messy and full of surprises. My job? Clean it up, dig deep, and extract meaningful insights.\n",
        "\n",
        "Step 1: The Cleanup\n",
        "\n",
        "The first thing I noticed was that the dataset was far from analysis-ready. Dates were inconsistent, numbers had way too many decimal places, and missing values threatened to skew the results. So, the first step was to clean it up. I converted dates to a uniform format, rounded key values like sales and fuel prices, and got rid of any incomplete data.\n",
        "\n",
        "By the end of the cleanup, the dataset was tidy and ready for exploration. Now came the fun part: finding patterns and answering some big business questions.\n",
        "\n",
        "Step 2: Holidays and Sales—What’s the Connection?\n",
        "\n",
        "Holidays are huge for retailers, and Walmart is no different. I wanted to see which holidays had the biggest impact on weekly sales. After grouping the data by holiday dates, it became clear that Black Friday and Christmas week were the real sales drivers.\n",
        "\n",
        "For example, on November 23, 2012 (Black Friday), Walmart hit its highest sales of the entire dataset. Christmas weeks were right up there too, proving that holiday shopping plays a massive role in their performance. This insight alone was valuable—confirming that these key periods are the ones to focus on for promotions and inventory planning.\n",
        "\n",
        "Step 3: Digging into External Factors\n",
        "\n",
        "Once I had a handle on the holiday trends, I got curious about external factors like fuel prices, the Consumer Price Index (CPI), and unemployment rates. Were they influencing sales?\n",
        "\n",
        "Fuel Prices:\n",
        "\n",
        " I found a negative correlation between fuel prices and weekly sales. When fuel prices went up, sales tended to dip. It made sense—higher fuel prices leave consumers with less disposable income for other purchases.\n",
        "CPI (Consumer Price Index): There was a positive correlation between CPI and sales, especially during non-holiday weeks. This suggested that when the overall economy is doing well, people spend more at Walmart.\n",
        "Unemployment Rates: Unsurprisingly, stores in areas with lower unemployment consistently outperformed those in higher-unemployment regions. This reinforced the idea that local economic conditions directly impact consumer spending behavior.\n",
        "\n",
        "Step 4: What Did We Learn?\n",
        "By the end of the project, the data told a clear story:\n",
        "\n",
        "Holiday periods are critical for Walmart’s success. Focus promotions and resources on Black Friday and Christmas week.\n",
        "Fuel prices matter. Monitoring fuel price trends can help Walmart predict and prepare for sales fluctuations.\n",
        "Local economic conditions can’t be ignored. Tailoring strategies for stores in different regions could help boost overall performance.\n",
        "\n",
        "Wrapping It Up\n",
        "\n",
        "This project started with a mess of numbers and ended with some powerful insights. It was a reminder of how much value lies hidden in data—waiting for someone to connect the dots. For Walmart, these insights could mean more effective marketing, smarter inventory planning, and better forecasting. For me, it was another exciting journey into the world of data analysis, where every answer leads to new questions.\n",
        "\n"
      ],
      "metadata": {
        "id": "nzC7oWNoebZj"
      }
    },
    {
      "cell_type": "code",
      "source": [
        "from google.colab import drive\n",
        "drive.mount('/content/drive')"
      ],
      "metadata": {
        "colab": {
          "base_uri": "https://localhost:8080/"
        },
        "id": "76ebL-4sfmvd",
        "outputId": "76450e63-6621-4cd9-c357-e63b4a897480"
      },
      "execution_count": 9,
      "outputs": [
        {
          "output_type": "stream",
          "name": "stdout",
          "text": [
            "Mounted at /content/drive\n"
          ]
        }
      ]
    }
  ]
}